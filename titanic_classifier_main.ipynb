# <center> Titanic Classification </center> 
### Importing the libraries
import warnings
warnings.filterwarnings("ignore")
import pandas as pd 
import numpy as np
import matplotlib.pyplot as plt 
import seaborn as sns 
from scipy.stats import pearsonr
### Data Collection
titanic_data = pd.read_csv("../dataset/titanic.csv")
titanic_data
### Data Dictionary 

    Variable     Definition          Key
    
    Survived     Survival            0 = No, 1 = Yes
    pclass       Ticket class        1 = 1st, 2 = 2nd, 3 = 3rd
    sex          Sex  
    Age          Age in Years
    sibsp        # of sibilings/ 
                 spouses aboard the 
                 Titanic
    parch        # of parents/ 
                 children aborard
                 the Titanic 
    ticket       Ticket number
    fare         Passenger fare
    cabin        Cabin number 
    embarked     Port of Embarkation  C = Cherbourg, 
                                      Q = Queentown, 
                                      S = Southampton
### Data Preprocessing
#  Number of rows and columns
titanic_data.shape
# Get information about the data
titanic_data.info()
# To check the number of missing values
titanic_data.isnull().sum()
#### Handling the missing values

If the null value is more than 30% then drop the column. Else, Just impute the column with mean. 
# Dropping the "Cabin" column from the dataframe
titanic_data = titanic_data.drop(columns='Cabin', axis=1)
titanic_data.head()
# Replacing the missing vlaues in "Age" column with mean 
titanic_data['Age'].fillna(titanic_data['Age'].mean(), inplace=True)
# Finding the mode value of "Embarkked" Column 
print(titanic_data['Embarked'].mode())
print(titanic_data['Embarked'].mode()[0]) # 0 is the index
# Replacing the missing values in "Embarked" column with the mode value
titanic_data['Embarked'].fillna(titanic_data['Embarked'].mode()[0], inplace=True)
titanic_data.isnull().sum()
### Data Analysis
# Getting statistical measures about the data (It's not useful while handling categorical column)
titanic_data.describe()
# Finding the number of people survived and not survived!
titanic_data['Survived'].value_counts()
### Data Visualization
sns.set()
# Count plot for Survived Column
sns.countplot(x='Survived', data=titanic_data)
titanic_data['Sex'].value_counts()
sns.countplot(x='Sex', data=titanic_data)
# Number of survivors by Gender wise
sns.countplot(x="Sex", hue="Survived", data=titanic_data)
# Creating a Count plot for Pclass Column 
sns.countplot(x="Pclass", data=titanic_data)
# Number of Survivers by Pclass wise 
sns.countplot(x="Pclass", hue="Survived", data=titanic_data)
 ### Encoding the Categorical Columns
titanic_data["Sex"].value_counts()
titanic_data["Embarked"].value_counts()
# Converting Categorical Columns 
titanic_data.replace({'Sex':{'male':0, 'female':1}, 'Embarked':{'S':0, 'C':1, 'Q':2}}, inplace=True)
titanic_data.head()
 ### Feature Selection
X = titanic_data.drop(columns=["PassengerId", "Name", "Ticket", "Survived"], axis=1)
Y = titanic_data['Survived']
print(X)
print(Y)
### Training and Testing Split
from sklearn.model_selection import train_test_split
X_train, X_test, Y_train, Y_test = train_test_split(X, Y, test_size=0.2, random_state=2)
print(X.shape, X_train.shape, X_test.shape)
## Model Training
from sklearn.linear_model import LogisticRegression
from sklearn.metrics import accuracy_score, confusion_matrix, classification_report
#### Logistic Regression
model = LogisticRegression()
model.fit(X_train, Y_train)
model_prediction = model.predict(X_test)
accuracy_score(model_prediction, Y_test)
### Model Evaluation
confusion_matrix(Y_test, model_prediction)
### Combining all the model score
results = pd.DataFrame({
    'Model': ['Logistic Regression'], 
    'Score': [0.78]
})

results
### Model Prediction
model_prediction
## Model Building and Deployment
# To save the model in a pkl file. 

import pickle as pkl

pkl.dump(model, open('model.pkl', 'wb'))
print(X)
print(Y)
X_train.iloc[0,:]
a = list(X_train.iloc[0,:])
a = np.array(a)
ypred = model.predict(a.reshape(-1, 7))
ypred 
Y_train[0]
## Inference
loaded_model = pkl.load(open('model.pkl', 'rb'))
type(loaded_model)
ypred = loaded_model.predict(a.reshape(-1,7))
ypred
